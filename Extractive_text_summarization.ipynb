{
  "nbformat": 4,
  "nbformat_minor": 0,
  "metadata": {
    "colab": {
      "name": "Extractive_text_summarization.ipynb",
      "provenance": [],
      "collapsed_sections": []
    },
    "kernelspec": {
      "name": "python3",
      "display_name": "Python 3"
    },
    "accelerator": "GPU"
  },
  "cells": [
    {
      "cell_type": "code",
      "metadata": {
        "id": "HFm7tnDHNlqD",
        "colab_type": "code",
        "outputId": "b32a87c2-f56a-4545-a41a-0afe632cdfb2",
        "colab": {
          "base_uri": "https://localhost:8080/",
          "height": 54
        }
      },
      "source": [
        "import numpy as np\n",
        "import pandas as pd\n",
        "import nltk\n",
        "nltk.download('punkt')\n",
        "import re"
      ],
      "execution_count": 0,
      "outputs": [
        {
          "output_type": "stream",
          "text": [
            "[nltk_data] Downloading package punkt to /root/nltk_data...\n",
            "[nltk_data]   Unzipping tokenizers/punkt.zip.\n"
          ],
          "name": "stdout"
        }
      ]
    },
    {
      "cell_type": "code",
      "metadata": {
        "id": "lyN_CQTmOA04",
        "colab_type": "code",
        "colab": {}
      },
      "source": [
        "df = pd.read_csv(\"tennis_articles_v4.csv\")"
      ],
      "execution_count": 0,
      "outputs": []
    },
    {
      "cell_type": "code",
      "metadata": {
        "id": "WDw3H1afOZnL",
        "colab_type": "code",
        "outputId": "7cc20783-5ac5-4a3a-ccde-17aa3dba201a",
        "colab": {
          "base_uri": "https://localhost:8080/",
          "height": 206
        }
      },
      "source": [
        "df.head()"
      ],
      "execution_count": 0,
      "outputs": [
        {
          "output_type": "execute_result",
          "data": {
            "text/html": [
              "<div>\n",
              "<style scoped>\n",
              "    .dataframe tbody tr th:only-of-type {\n",
              "        vertical-align: middle;\n",
              "    }\n",
              "\n",
              "    .dataframe tbody tr th {\n",
              "        vertical-align: top;\n",
              "    }\n",
              "\n",
              "    .dataframe thead th {\n",
              "        text-align: right;\n",
              "    }\n",
              "</style>\n",
              "<table border=\"1\" class=\"dataframe\">\n",
              "  <thead>\n",
              "    <tr style=\"text-align: right;\">\n",
              "      <th></th>\n",
              "      <th>article_id</th>\n",
              "      <th>article_text</th>\n",
              "      <th>source</th>\n",
              "    </tr>\n",
              "  </thead>\n",
              "  <tbody>\n",
              "    <tr>\n",
              "      <th>0</th>\n",
              "      <td>1</td>\n",
              "      <td>Maria Sharapova has basically no friends as te...</td>\n",
              "      <td>https://www.tennisworldusa.org/tennis/news/Mar...</td>\n",
              "    </tr>\n",
              "    <tr>\n",
              "      <th>1</th>\n",
              "      <td>2</td>\n",
              "      <td>BASEL, Switzerland (AP), Roger Federer advance...</td>\n",
              "      <td>http://www.tennis.com/pro-game/2018/10/copil-s...</td>\n",
              "    </tr>\n",
              "    <tr>\n",
              "      <th>2</th>\n",
              "      <td>3</td>\n",
              "      <td>Roger Federer has revealed that organisers of ...</td>\n",
              "      <td>https://scroll.in/field/899938/tennis-roger-fe...</td>\n",
              "    </tr>\n",
              "    <tr>\n",
              "      <th>3</th>\n",
              "      <td>4</td>\n",
              "      <td>Kei Nishikori will try to end his long losing ...</td>\n",
              "      <td>http://www.tennis.com/pro-game/2018/10/nishiko...</td>\n",
              "    </tr>\n",
              "    <tr>\n",
              "      <th>4</th>\n",
              "      <td>5</td>\n",
              "      <td>Federer, 37, first broke through on tour over ...</td>\n",
              "      <td>https://www.express.co.uk/sport/tennis/1036101...</td>\n",
              "    </tr>\n",
              "  </tbody>\n",
              "</table>\n",
              "</div>"
            ],
            "text/plain": [
              "   article_id  ...                                             source\n",
              "0           1  ...  https://www.tennisworldusa.org/tennis/news/Mar...\n",
              "1           2  ...  http://www.tennis.com/pro-game/2018/10/copil-s...\n",
              "2           3  ...  https://scroll.in/field/899938/tennis-roger-fe...\n",
              "3           4  ...  http://www.tennis.com/pro-game/2018/10/nishiko...\n",
              "4           5  ...  https://www.express.co.uk/sport/tennis/1036101...\n",
              "\n",
              "[5 rows x 3 columns]"
            ]
          },
          "metadata": {
            "tags": []
          },
          "execution_count": 3
        }
      ]
    },
    {
      "cell_type": "code",
      "metadata": {
        "id": "G4LhZpJaObv7",
        "colab_type": "code",
        "outputId": "707ccaf4-31a5-410c-9097-5f04d57db6a5",
        "colab": {
          "base_uri": "https://localhost:8080/",
          "height": 55
        }
      },
      "source": [
        "df['article_text'][0]"
      ],
      "execution_count": 0,
      "outputs": [
        {
          "output_type": "execute_result",
          "data": {
            "text/plain": [
              "\"Maria Sharapova has basically no friends as tennis players on the WTA Tour. The Russian player has no problems in openly speaking about it and in a recent interview she said: 'I don't really hide any feelings too much. I think everyone knows this is my job here. When I'm on the courts or when I'm on the court playing, I'm a competitor and I want to beat every single person whether they're in the locker room or across the net.So I'm not the one to strike up a conversation about the weather and know that in the next few minutes I have to go and try to win a tennis match. I'm a pretty competitive girl. I say my hellos, but I'm not sending any players flowers as well. Uhm, I'm not really friendly or close to many players. I have not a lot of friends away from the courts.' When she said she is not really close to a lot of players, is that something strategic that she is doing? Is it different on the men's tour than the women's tour? 'No, not at all. I think just because you're in the same sport doesn't mean that you have to be friends with everyone just because you're categorized, you're a tennis player, so you're going to get along with tennis players. I think every person has different interests. I have friends that have completely different jobs and interests, and I've met them in very different parts of my life. I think everyone just thinks because we're tennis players we should be the greatest of friends. But ultimately tennis is just a very small part of what we do. There are so many other things that we're interested in, that we do.'\""
            ]
          },
          "metadata": {
            "tags": []
          },
          "execution_count": 4
        }
      ]
    },
    {
      "cell_type": "code",
      "metadata": {
        "id": "Q7ojpV9kp-0x",
        "colab_type": "code",
        "outputId": "19284dc9-5b61-4693-b81f-2dd20da197c0",
        "colab": {
          "base_uri": "https://localhost:8080/",
          "height": 35
        }
      },
      "source": [
        "len(df['article_text'])"
      ],
      "execution_count": 0,
      "outputs": [
        {
          "output_type": "execute_result",
          "data": {
            "text/plain": [
              "8"
            ]
          },
          "metadata": {
            "tags": []
          },
          "execution_count": 8
        }
      ]
    },
    {
      "cell_type": "code",
      "metadata": {
        "id": "gNpkrpnQOjWh",
        "colab_type": "code",
        "colab": {}
      },
      "source": [
        "from nltk.tokenize import sent_tokenize\n",
        "# print(sent_tokenize(df['article_text'][0]))\n",
        "# se = sent_tokenize(df['article_text'][0])\n",
        "# print(len(se))\n",
        "articles = []\n",
        "for article in df['article_text']:\n",
        "  articles.append(sent_tokenize(article))"
      ],
      "execution_count": 0,
      "outputs": []
    },
    {
      "cell_type": "code",
      "metadata": {
        "id": "UtIocAvnpjuK",
        "colab_type": "code",
        "outputId": "6be9c334-f50b-456c-d260-a21fde397d31",
        "colab": {
          "base_uri": "https://localhost:8080/",
          "height": 349
        }
      },
      "source": [
        "articles[0]"
      ],
      "execution_count": 0,
      "outputs": [
        {
          "output_type": "execute_result",
          "data": {
            "text/plain": [
              "['Maria Sharapova has basically no friends as tennis players on the WTA Tour.',\n",
              " \"The Russian player has no problems in openly speaking about it and in a recent interview she said: 'I don't really hide any feelings too much.\",\n",
              " 'I think everyone knows this is my job here.',\n",
              " \"When I'm on the courts or when I'm on the court playing, I'm a competitor and I want to beat every single person whether they're in the locker room or across the net.So I'm not the one to strike up a conversation about the weather and know that in the next few minutes I have to go and try to win a tennis match.\",\n",
              " \"I'm a pretty competitive girl.\",\n",
              " \"I say my hellos, but I'm not sending any players flowers as well.\",\n",
              " \"Uhm, I'm not really friendly or close to many players.\",\n",
              " \"I have not a lot of friends away from the courts.'\",\n",
              " 'When she said she is not really close to a lot of players, is that something strategic that she is doing?',\n",
              " \"Is it different on the men's tour than the women's tour?\",\n",
              " \"'No, not at all.\",\n",
              " \"I think just because you're in the same sport doesn't mean that you have to be friends with everyone just because you're categorized, you're a tennis player, so you're going to get along with tennis players.\",\n",
              " 'I think every person has different interests.',\n",
              " \"I have friends that have completely different jobs and interests, and I've met them in very different parts of my life.\",\n",
              " \"I think everyone just thinks because we're tennis players we should be the greatest of friends.\",\n",
              " 'But ultimately tennis is just a very small part of what we do.',\n",
              " \"There are so many other things that we're interested in, that we do.'\"]"
            ]
          },
          "metadata": {
            "tags": []
          },
          "execution_count": 7
        }
      ]
    },
    {
      "cell_type": "code",
      "metadata": {
        "id": "2n4aH2WfR3-H",
        "colab_type": "code",
        "colab": {}
      },
      "source": [
        "sentences = []\n",
        "for article in articles:\n",
        "  for sent in article:\n",
        "    sentences.append(sent)"
      ],
      "execution_count": 0,
      "outputs": []
    },
    {
      "cell_type": "code",
      "metadata": {
        "id": "QXiQYG4WQrOZ",
        "colab_type": "code",
        "outputId": "49f0530a-dc00-4651-a474-9244c1126479",
        "colab": {
          "base_uri": "https://localhost:8080/",
          "height": 54
        }
      },
      "source": [
        "print(type(sentences))\n",
        "print(len(sentences))\n"
      ],
      "execution_count": 0,
      "outputs": [
        {
          "output_type": "stream",
          "text": [
            "<class 'list'>\n",
            "119\n"
          ],
          "name": "stdout"
        }
      ]
    },
    {
      "cell_type": "code",
      "metadata": {
        "id": "ZI0mLH27qEVv",
        "colab_type": "code",
        "outputId": "267a982a-4488-4544-820f-b670322d7260",
        "colab": {
          "base_uri": "https://localhost:8080/",
          "height": 1000
        }
      },
      "source": [
        "sentences"
      ],
      "execution_count": 0,
      "outputs": [
        {
          "output_type": "execute_result",
          "data": {
            "text/plain": [
              "['Maria Sharapova has basically no friends as tennis players on the WTA Tour.',\n",
              " \"The Russian player has no problems in openly speaking about it and in a recent interview she said: 'I don't really hide any feelings too much.\",\n",
              " 'I think everyone knows this is my job here.',\n",
              " \"When I'm on the courts or when I'm on the court playing, I'm a competitor and I want to beat every single person whether they're in the locker room or across the net.So I'm not the one to strike up a conversation about the weather and know that in the next few minutes I have to go and try to win a tennis match.\",\n",
              " \"I'm a pretty competitive girl.\",\n",
              " \"I say my hellos, but I'm not sending any players flowers as well.\",\n",
              " \"Uhm, I'm not really friendly or close to many players.\",\n",
              " \"I have not a lot of friends away from the courts.'\",\n",
              " 'When she said she is not really close to a lot of players, is that something strategic that she is doing?',\n",
              " \"Is it different on the men's tour than the women's tour?\",\n",
              " \"'No, not at all.\",\n",
              " \"I think just because you're in the same sport doesn't mean that you have to be friends with everyone just because you're categorized, you're a tennis player, so you're going to get along with tennis players.\",\n",
              " 'I think every person has different interests.',\n",
              " \"I have friends that have completely different jobs and interests, and I've met them in very different parts of my life.\",\n",
              " \"I think everyone just thinks because we're tennis players we should be the greatest of friends.\",\n",
              " 'But ultimately tennis is just a very small part of what we do.',\n",
              " \"There are so many other things that we're interested in, that we do.'\",\n",
              " 'BASEL, Switzerland (AP), Roger Federer advanced to the 14th Swiss Indoors final of his career by beating seventh-seeded Daniil Medvedev 6-1, 6-4 on Saturday.',\n",
              " 'Seeking a ninth title at his hometown event, and a 99th overall, Federer will play 93th-ranked Marius Copil on Sunday.',\n",
              " 'Federer dominated the 20th-ranked Medvedev and had his first match-point chance to break serve again at 5-1.',\n",
              " \"He then dropped his serve to love, and let another match point slip in Medvedev's next service game by netting a backhand.\",\n",
              " 'He clinched on his fourth chance when Medvedev netted from the baseline.',\n",
              " 'Copil upset expectations of a Federer final against Alexander Zverev in a 6-3, 6-7 (6), 6-4 win over the fifth-ranked German in the earlier semifinal.',\n",
              " 'The Romanian aims for a first title after arriving at Basel without a career win over a top-10 opponent.',\n",
              " 'Copil has two after also beating No.',\n",
              " '6 Marin Cilic in the second round.',\n",
              " 'Copil fired 26 aces past Zverev and never dropped serve, clinching after 2 1/2 hours with a forehand volley winner to break Zverev for the second time in the semifinal.',\n",
              " \"He came through two rounds of qualifying last weekend to reach the Basel main draw, including beating Zverev's older brother, Mischa.\",\n",
              " 'Federer had an easier time than in his only previous match against Medvedev, a three-setter at Shanghai two weeks ago.',\n",
              " 'Roger Federer has revealed that organisers of the re-launched and condensed Davis Cup gave him three days to decide if he would commit to the controversial competition.',\n",
              " 'Speaking at the Swiss Indoors tournament where he will play in Sundays final against Romanian qualifier Marius Copil, the world number three said that given the impossibly short time frame to make a decision, he opted out of any commitment.',\n",
              " '\"They only left me three days to decide\", Federer said.',\n",
              " '\"I didn\\'t to have time to consult with all the people I had to consult.',\n",
              " '\"I could not make a decision in that time, so I told them to do what they wanted.\"',\n",
              " 'The 20-time Grand Slam champion has voiced doubts about the wisdom of the one-week format to be introduced by organisers Kosmos, who have promised the International Tennis Federation up to $3 billion in prize money over the next quarter-century.',\n",
              " 'The competition is set to feature 18 countries in the November 18-24 finals in Madrid next year, and will replace the classic home-and-away ties played four times per year for decades.',\n",
              " 'Kosmos is headed by Barcelona footballer Gerard Pique, who is hoping fellow Spaniard Rafael Nadal will play in the upcoming event.',\n",
              " \"Novak Djokovic has said he will give precedence to the ATP's intended re-launch of the defunct World Team Cup in January 2020, at various Australian venues.\",\n",
              " 'Major players feel that a big event in late November combined with one in January before the Australian Open will mean too much tennis and too little rest.',\n",
              " 'Federer said earlier this month in Shanghai in that his chances of playing the Davis Cup were all but non-existent.',\n",
              " '\"I highly doubt it, of course.',\n",
              " 'We will see what happens,\" he said.',\n",
              " '\"I do not think this was designed for me, anyhow.',\n",
              " 'This was designed for the future generation of players.\"',\n",
              " 'Argentina and Britain received wild cards to the new-look event, and will compete along with the four 2018 semi-finalists and the 12 teams who win qualifying rounds next February.',\n",
              " '\"I don\\'t like being under that kind of pressure,\" Federer said of the deadline Kosmos handed him.',\n",
              " 'Kei Nishikori will try to end his long losing streak in ATP finals and Kevin Anderson will go for his second title of the year at the Erste Bank Open on Sunday.',\n",
              " 'The fifth-seeded Nishikori reached his third final of 2018 after beating Mikhail Kukushkin of Kazakhstan 6-4, 6-3 in the semifinals.',\n",
              " \"A winner of 11 ATP events, Nishikori hasn't triumphed since winning in Memphis in February 2016.\",\n",
              " 'He has lost eight straight finals since.',\n",
              " 'The second-seeded Anderson defeated Fernando Verdasco 6-3, 3-6, 6-4.',\n",
              " 'Anderson has a shot at a fifth career title and second of the year after winning in New York in February.',\n",
              " 'Nishikori leads Anderson 4-2 on career matchups, but the South African won their only previous meeting this year.',\n",
              " 'With a victory on Sunday, Anderson will qualify for the ATP Finals.',\n",
              " 'Currently in ninth place, Nishikori with a win could move to within 125 points of the cut for the eight-man event in London next month.',\n",
              " 'Nishikori held serve throughout against Kukushkin, who came through qualifying.',\n",
              " 'He used his first break point to close out the first set before going up 3-0 in the second and wrapping up the win on his first match point.',\n",
              " 'Against Verdasco, Anderson hit nine of his 19 aces in the opening set.',\n",
              " \"The Spaniard broke Anderson twice in the second but didn't get another chance on the South African's serve in the final set.\",\n",
              " 'Federer, 37, first broke through on tour over two decades ago and he has since gone on to enjoy a glittering career.',\n",
              " 'The 20-time Grand Slam winner is chasing his 99th ATP title at the Swiss Indoors this week and he faces Jan-Lennard Struff in the second round on Thursday (6pm BST).',\n",
              " 'Davenport enjoyed most of her success in the late 1990s and her third and final major tournament win came at the 2000 Australian Open.',\n",
              " 'But she claims the mentality of professional tennis players slowly began to change after the new millennium.',\n",
              " '\"It seems pretty friendly right now,\" said Davenport.',\n",
              " '\"I think there is a really nice environment and a great atmosphere, especially between some of the veteran players helping some of the younger players out.',\n",
              " '\"It\\'s a very pleasant atmosphere, I\\'d have to say, around the locker rooms.',\n",
              " '\"I felt like the best weeks that I had to get to know players when I was playing were the Fed Cup weeks or the Olympic weeks, not necessarily during the tournaments.',\n",
              " '\"And even though maybe we had smaller teams, I still think we kept to ourselves quite a bit.',\n",
              " '\"Not always, but I really feel like in the mid-2000 years there was a huge shift of the attitudes of the top players and being more friendly and being more giving, and a lot of that had to do with players like Roger coming up.',\n",
              " '\"I just felt like it really kind of changed where people were a little bit, definitely in the 90s, a lot more quiet, into themselves, and then it started to become better.\"',\n",
              " 'Meanwhile, Federer is hoping he can improve his service game as he hunts his ninth Swiss Indoors title this week.',\n",
              " '\"I didn\\'t serve very well [against first-round opponent Filip Kranjovic,\" Federer said.',\n",
              " '\"I think I was misfiring the corners, I was not hitting the lines enough.',\n",
              " '\"Clearly you make your life more difficult, but still I was up 6-2, 3-1, break points, so things could have ended very quickly today, even though I didn\\'t have the best serve percentage stats.',\n",
              " '\"But maybe that\\'s exactly what caught up to me eventually.',\n",
              " \"It's just getting used to it.\",\n",
              " 'This is where the first rounds can be tricky.\"',\n",
              " 'Nadal has not played tennis since he was forced to retire from the US Open semi-finals against Juan Martin Del Porto with a knee injury.',\n",
              " \"The world No 1 has been forced to miss Spain's Davis Cup clash with France and the Asian hard court season.\",\n",
              " 'But with the ATP World Tour Finals due to begin next month, Nadal is ready to prove his fitness before the season-ending event at the 02 Arena.',\n",
              " 'Nadal flew to Paris on Friday and footage from the Paris Masters official Twitter account shows the Spaniard smiling as he strides onto court for practice.',\n",
              " 'The Paris Masters draw has been made and Nadal will start his campaign on Tuesday or Wednesday against either Fernando Verdasco or Jeremy Chardy.',\n",
              " 'Nadal could then play defending champion Jack Sock in the third round before a potential quarter-final with either Borna Coric or Dominic Thiem.',\n",
              " \"Nadal's appearance in Paris is a big boost to the tournament organisers who could see Roger Federer withdraw.\",\n",
              " 'Federer is in action at the Swiss Indoors in Basel and if he reaches the final, he could pull out of Paris in a bid to stay fresh for London.',\n",
              " 'But as it stands, Federer is in the draw and is scheduled to face either former world No 3 Milos Raonic or Jo-Wilfried Tsonga in the second round.',\n",
              " \"Federer's projected route to the Paris final could also lead to matches against Kevin Anderson and Novak Djokovic.\",\n",
              " 'Djokovic could play Marco Cecchinato in the second round.',\n",
              " 'British No 1 Kyle Edmund is the 12th seed in Paris and will get underway in round two against either Karen Khachanov or Filip Krajinovic.',\n",
              " 'Tennis giveth, and tennis taketh away.',\n",
              " 'The end of the season is finally in sight, and with so many players defending,or losing,huge chunks of points in Singapore, Zhuhai and London, podcast co-hosts Nina Pantic and Irina Falconi discuss the art of defending points (02:14).',\n",
              " \"It's no secret that Jack Sock has struggled on the singles court this year (his record is 7-19).\",\n",
              " 'He could lose 1,400 points in the next few weeks, but instead of focusing on the negative, it can all be about perspective (06:28).',\n",
              " \"Let's also not forget his two Grand Slam doubles triumphs this season.\",\n",
              " 'Two players, Stefanos Tsitsipas and Kyle Edmund, won their first career ATP titles last week (13:26).',\n",
              " \"It's a big deal because you never forget your first.\",\n",
              " 'Irina looks back at her WTA title win in Bogota in 2016, and tells an unforgettable story about her semifinal drama (14:04).',\n",
              " 'In Singapore, one of the biggest storylines (aside from the matches, of course) has been the on-court coaching debate.',\n",
              " 'Nina and Irina give their opinions on what coaching should look like in the future, on both tours (18:55).',\n",
              " 'Federer won the Swiss Indoors last week by beating Romanian qualifier Marius Copil in the final.',\n",
              " 'The 37-year-old claimed his 99th ATP title and is hunting the century in the French capital this week.',\n",
              " 'Federer has been handed a difficult draw where could could come across Kevin Anderson, Novak Djokovic and Rafael Nadal in the latter rounds.',\n",
              " 'But first the 20-time Grand Slam winner wants to train on the Paris Masters court this afternoon before deciding whether to appear for his opening match against either Milos Raonic or Jo-Wilfried Tsonga.',\n",
              " '\"On Monday, I am free and will look how I feel,\" Federer said after winning the Swiss Indoors.',\n",
              " '\"On Tuesday I will fly to Paris and train in the afternoon to be ready for my first match on Wednesday night.',\n",
              " '\"I felt good all week and better every day.',\n",
              " '\"We also had the impression that at this stage it might be better to play matches than to train.',\n",
              " '\"And as long as I fear no injury, I play.\"',\n",
              " \"Federer's success in Basel last week was the ninth time he has won his hometown tournament.\",\n",
              " 'And he was delighted to be watched on by all of his family and friends as he purchased 60 tickets for the final for those dearest to him.',\n",
              " '\"My children, my parents, my sister and my team are all there,\" Federer added.',\n",
              " '\"It is always very emotional for me to thank my team.',\n",
              " 'And sometimes it tilts with the emotions, sometimes I just stumble.',\n",
              " '\"It means the world to me.',\n",
              " 'It makes me incredibly happy to win my home tournament and make people happy here.',\n",
              " '\"I do not know if it\\'s maybe my last title, so today I try a lot more to absorb that and enjoy the moments much more consciously.',\n",
              " '\"Maybe I should celebrate as if it were my last title.',\n",
              " '\"There are very touching moments: seeing the ball children, the standing ovations, all the familiar faces in the audience.',\n",
              " 'Because it was not always easy in the last weeks.\"']"
            ]
          },
          "metadata": {
            "tags": []
          },
          "execution_count": 11
        }
      ]
    },
    {
      "cell_type": "code",
      "metadata": {
        "id": "vLBXR-N4Sj-H",
        "colab_type": "code",
        "outputId": "b3c79c80-1578-4d74-8500-bd8b9ae3e435",
        "colab": {
          "base_uri": "https://localhost:8080/",
          "height": 147
        }
      },
      "source": [
        "sentences[:6]"
      ],
      "execution_count": 0,
      "outputs": [
        {
          "output_type": "execute_result",
          "data": {
            "text/plain": [
              "['Maria Sharapova has basically no friends as tennis players on the WTA Tour.',\n",
              " \"The Russian player has no problems in openly speaking about it and in a recent interview she said: 'I don't really hide any feelings too much.\",\n",
              " 'I think everyone knows this is my job here.',\n",
              " \"When I'm on the courts or when I'm on the court playing, I'm a competitor and I want to beat every single person whether they're in the locker room or across the net.So I'm not the one to strike up a conversation about the weather and know that in the next few minutes I have to go and try to win a tennis match.\",\n",
              " \"I'm a pretty competitive girl.\",\n",
              " \"I say my hellos, but I'm not sending any players flowers as well.\"]"
            ]
          },
          "metadata": {
            "tags": []
          },
          "execution_count": 12
        }
      ]
    },
    {
      "cell_type": "code",
      "metadata": {
        "id": "b-sNFfF0ZEh4",
        "colab_type": "code",
        "colab": {}
      },
      "source": [
        "import string\n",
        "from string import digits\n",
        "exclude1 = set(string.punctuation)\n",
        "exclude2 = set(string.digits)\n",
        "sentences = pd.Series(sentences).apply(lambda x: ''.join(ch for ch in x if ch not in exclude1))\n",
        "sentences = pd.Series(sentences).apply(lambda x: ''.join(ch for ch in x if ch not in exclude2))"
      ],
      "execution_count": 0,
      "outputs": []
    },
    {
      "cell_type": "code",
      "metadata": {
        "id": "vNqzeBFQcjck",
        "colab_type": "code",
        "colab": {}
      },
      "source": [
        "sentences = pd.Series(sentences).apply(lambda x: re.sub(\"[?=.\\\"][?=.\\']\", '', x))"
      ],
      "execution_count": 0,
      "outputs": []
    },
    {
      "cell_type": "code",
      "metadata": {
        "id": "dtcD5NvyZ6uZ",
        "colab_type": "code",
        "colab": {}
      },
      "source": [
        "sentences = pd.Series(sentences).apply(lambda x: x.lower())"
      ],
      "execution_count": 0,
      "outputs": []
    },
    {
      "cell_type": "code",
      "metadata": {
        "id": "PAgp1fuoaEfF",
        "colab_type": "code",
        "outputId": "9a4113ab-4764-4994-9655-078ab89f4519",
        "colab": {
          "base_uri": "https://localhost:8080/",
          "height": 35
        }
      },
      "source": [
        "sentences[0]"
      ],
      "execution_count": 0,
      "outputs": [
        {
          "output_type": "execute_result",
          "data": {
            "text/plain": [
              "'maria sharapova has basically no friends as tennis players on the wta tour'"
            ]
          },
          "metadata": {
            "tags": []
          },
          "execution_count": 16
        }
      ]
    },
    {
      "cell_type": "code",
      "metadata": {
        "id": "9rHYO8GVdVHb",
        "colab_type": "code",
        "outputId": "c2664bd6-a793-432f-beae-c70175aa84c2",
        "colab": {
          "base_uri": "https://localhost:8080/",
          "height": 72
        }
      },
      "source": [
        "nltk.download('stopwords')"
      ],
      "execution_count": 0,
      "outputs": [
        {
          "output_type": "stream",
          "text": [
            "[nltk_data] Downloading package stopwords to /root/nltk_data...\n",
            "[nltk_data]   Unzipping corpora/stopwords.zip.\n"
          ],
          "name": "stdout"
        },
        {
          "output_type": "execute_result",
          "data": {
            "text/plain": [
              "True"
            ]
          },
          "metadata": {
            "tags": []
          },
          "execution_count": 17
        }
      ]
    },
    {
      "cell_type": "code",
      "metadata": {
        "id": "tgNL2uwcdlD5",
        "colab_type": "code",
        "colab": {}
      },
      "source": [
        "from nltk.corpus import stopwords\n",
        "stop_words = stopwords.words('english')"
      ],
      "execution_count": 0,
      "outputs": []
    },
    {
      "cell_type": "code",
      "metadata": {
        "id": "kO7D28b2ft5H",
        "colab_type": "code",
        "outputId": "a989f90c-68c3-4435-f9d1-60fdb953821c",
        "colab": {
          "base_uri": "https://localhost:8080/",
          "height": 55
        }
      },
      "source": [
        "print(stop_words)"
      ],
      "execution_count": 0,
      "outputs": [
        {
          "output_type": "stream",
          "text": [
            "['i', 'me', 'my', 'myself', 'we', 'our', 'ours', 'ourselves', 'you', \"you're\", \"you've\", \"you'll\", \"you'd\", 'your', 'yours', 'yourself', 'yourselves', 'he', 'him', 'his', 'himself', 'she', \"she's\", 'her', 'hers', 'herself', 'it', \"it's\", 'its', 'itself', 'they', 'them', 'their', 'theirs', 'themselves', 'what', 'which', 'who', 'whom', 'this', 'that', \"that'll\", 'these', 'those', 'am', 'is', 'are', 'was', 'were', 'be', 'been', 'being', 'have', 'has', 'had', 'having', 'do', 'does', 'did', 'doing', 'a', 'an', 'the', 'and', 'but', 'if', 'or', 'because', 'as', 'until', 'while', 'of', 'at', 'by', 'for', 'with', 'about', 'against', 'between', 'into', 'through', 'during', 'before', 'after', 'above', 'below', 'to', 'from', 'up', 'down', 'in', 'out', 'on', 'off', 'over', 'under', 'again', 'further', 'then', 'once', 'here', 'there', 'when', 'where', 'why', 'how', 'all', 'any', 'both', 'each', 'few', 'more', 'most', 'other', 'some', 'such', 'no', 'nor', 'not', 'only', 'own', 'same', 'so', 'than', 'too', 'very', 's', 't', 'can', 'will', 'just', 'don', \"don't\", 'should', \"should've\", 'now', 'd', 'll', 'm', 'o', 're', 've', 'y', 'ain', 'aren', \"aren't\", 'couldn', \"couldn't\", 'didn', \"didn't\", 'doesn', \"doesn't\", 'hadn', \"hadn't\", 'hasn', \"hasn't\", 'haven', \"haven't\", 'isn', \"isn't\", 'ma', 'mightn', \"mightn't\", 'mustn', \"mustn't\", 'needn', \"needn't\", 'shan', \"shan't\", 'shouldn', \"shouldn't\", 'wasn', \"wasn't\", 'weren', \"weren't\", 'won', \"won't\", 'wouldn', \"wouldn't\"]\n"
          ],
          "name": "stdout"
        }
      ]
    },
    {
      "cell_type": "code",
      "metadata": {
        "id": "gY1slil5duVX",
        "colab_type": "code",
        "colab": {}
      },
      "source": [
        "# sentences = pd.Series(sentences).apply(lambda x: ''.join(ch + \" \" for ch in x.split() if ch not in stop_words))\n",
        "sentences = pd.Series(sentences).apply(lambda x: x.strip() )"
      ],
      "execution_count": 0,
      "outputs": []
    },
    {
      "cell_type": "code",
      "metadata": {
        "id": "Do29sOn-d3Yh",
        "colab_type": "code",
        "outputId": "b9c48262-ce76-4284-f15a-a41cfa7d6a87",
        "colab": {
          "base_uri": "https://localhost:8080/",
          "height": 35
        }
      },
      "source": [
        "sentences[0].split()[0]"
      ],
      "execution_count": 0,
      "outputs": [
        {
          "output_type": "execute_result",
          "data": {
            "text/plain": [
              "'maria'"
            ]
          },
          "metadata": {
            "tags": []
          },
          "execution_count": 21
        }
      ]
    },
    {
      "cell_type": "code",
      "metadata": {
        "id": "zV_PsB84UyFm",
        "colab_type": "code",
        "outputId": "53c6388f-561c-4bac-8814-0de4bdc9f908",
        "colab": {
          "base_uri": "https://localhost:8080/",
          "height": 476
        }
      },
      "source": [
        "!wget http://nlp.stanford.edu/data/glove.6B.zip\n",
        "!unzip glove*.zip"
      ],
      "execution_count": 0,
      "outputs": [
        {
          "output_type": "stream",
          "text": [
            "--2020-02-06 13:21:43--  http://nlp.stanford.edu/data/glove.6B.zip\n",
            "Resolving nlp.stanford.edu (nlp.stanford.edu)... 171.64.67.140\n",
            "Connecting to nlp.stanford.edu (nlp.stanford.edu)|171.64.67.140|:80... connected.\n",
            "HTTP request sent, awaiting response... 302 Found\n",
            "Location: https://nlp.stanford.edu/data/glove.6B.zip [following]\n",
            "--2020-02-06 13:21:43--  https://nlp.stanford.edu/data/glove.6B.zip\n",
            "Connecting to nlp.stanford.edu (nlp.stanford.edu)|171.64.67.140|:443... connected.\n",
            "HTTP request sent, awaiting response... 301 Moved Permanently\n",
            "Location: http://downloads.cs.stanford.edu/nlp/data/glove.6B.zip [following]\n",
            "--2020-02-06 13:21:44--  http://downloads.cs.stanford.edu/nlp/data/glove.6B.zip\n",
            "Resolving downloads.cs.stanford.edu (downloads.cs.stanford.edu)... 171.64.64.22\n",
            "Connecting to downloads.cs.stanford.edu (downloads.cs.stanford.edu)|171.64.64.22|:80... connected.\n",
            "HTTP request sent, awaiting response... 200 OK\n",
            "Length: 862182613 (822M) [application/zip]\n",
            "Saving to: ‘glove.6B.zip’\n",
            "\n",
            "glove.6B.zip        100%[===================>] 822.24M  2.09MB/s    in 6m 27s  \n",
            "\n",
            "2020-02-06 13:28:11 (2.12 MB/s) - ‘glove.6B.zip’ saved [862182613/862182613]\n",
            "\n",
            "Archive:  glove.6B.zip\n",
            "  inflating: glove.6B.50d.txt        \n",
            "  inflating: glove.6B.100d.txt       \n",
            "  inflating: glove.6B.200d.txt       \n",
            "  inflating: glove.6B.300d.txt       \n"
          ],
          "name": "stdout"
        }
      ]
    },
    {
      "cell_type": "code",
      "metadata": {
        "id": "g04bj6rkd4aF",
        "colab_type": "code",
        "colab": {}
      },
      "source": [
        "word_embeddings = {}\n",
        "f = open('glove.6B.100d.txt', encoding='utf-8')\n",
        "for line in f:\n",
        "  values = line.split()\n",
        "  word = values[0]\n",
        "  coefs = np.asarray(values[1:], dtype='float32')\n",
        "  word_embeddings[word] = coefs\n",
        "f.close()"
      ],
      "execution_count": 0,
      "outputs": []
    },
    {
      "cell_type": "code",
      "metadata": {
        "id": "QXc-WdRviSz0",
        "colab_type": "code",
        "outputId": "a0b9efb5-ea90-44a1-e295-34e2145c569f",
        "colab": {
          "base_uri": "https://localhost:8080/",
          "height": 54
        }
      },
      "source": [
        "print(word_embeddings['the'].shape)\n",
        "print( type(word_embeddings['the']) )"
      ],
      "execution_count": 0,
      "outputs": [
        {
          "output_type": "stream",
          "text": [
            "(100,)\n",
            "<class 'numpy.ndarray'>\n"
          ],
          "name": "stdout"
        }
      ]
    },
    {
      "cell_type": "code",
      "metadata": {
        "id": "mj_NOOjVifZD",
        "colab_type": "code",
        "outputId": "f1de2ad6-2efa-4642-bcb6-6ce10a29ecd7",
        "colab": {
          "base_uri": "https://localhost:8080/",
          "height": 36
        }
      },
      "source": [
        "len(word_embeddings.keys())"
      ],
      "execution_count": 0,
      "outputs": [
        {
          "output_type": "execute_result",
          "data": {
            "text/plain": [
              "400000"
            ]
          },
          "metadata": {
            "tags": []
          },
          "execution_count": 24
        }
      ]
    },
    {
      "cell_type": "code",
      "metadata": {
        "id": "WibyF8v7jXTq",
        "colab_type": "code",
        "colab": {}
      },
      "source": [
        "# sum_vec = np.zeros((100,))\n",
        "# type(sum_vec)"
      ],
      "execution_count": 0,
      "outputs": []
    },
    {
      "cell_type": "code",
      "metadata": {
        "id": "u33WZDBRirUz",
        "colab_type": "code",
        "colab": {}
      },
      "source": [
        "# Sentence vector\n",
        "sent_embedding = {}\n",
        "for sentence in sentences:\n",
        "  sum_vec = np.zeros((100, ))\n",
        "  # print(sum_vec.dtype)\n",
        "  # print(type(sum_vec))\n",
        "  for word in sentence.split(): \n",
        "    if word in word_embeddings.keys():\n",
        "      sum_vec = np.add(sum_vec, word_embeddings[word])\n",
        "\n",
        "  sum_vec = np.true_divide(sum_vec, len(sentence.split()) )\n",
        "  sent_embedding[sentence] = sum_vec "
      ],
      "execution_count": 0,
      "outputs": []
    },
    {
      "cell_type": "code",
      "metadata": {
        "id": "X6LDgmpikYjk",
        "colab_type": "code",
        "outputId": "6acb0416-5052-4b71-fd16-deb1708ec143",
        "colab": {
          "base_uri": "https://localhost:8080/",
          "height": 56
        }
      },
      "source": [
        "sent_embedding.keys()"
      ],
      "execution_count": 0,
      "outputs": [
        {
          "output_type": "execute_result",
          "data": {
            "text/plain": [
              "dict_keys(['maria sharapova has basically no friends as tennis players on the wta tour', 'the russian player has no problems in openly speaking about it and in a recent interview she said i dont really hide any feelings too much', 'i think everyone knows this is my job here', 'when im on the courts or when im on the court playing im a competitor and i want to beat every single person whether theyre in the locker room or across the netso im not the one to strike up a conversation about the weather and know that in the next few minutes i have to go and try to win a tennis match', 'im a pretty competitive girl', 'i say my hellos but im not sending any players flowers as well', 'uhm im not really friendly or close to many players', 'i have not a lot of friends away from the courts', 'when she said she is not really close to a lot of players is that something strategic that she is doing', 'is it different on the mens tour than the womens tour', 'no not at all', 'i think just because youre in the same sport doesnt mean that you have to be friends with everyone just because youre categorized youre a tennis player so youre going to get along with tennis players', 'i think every person has different interests', 'i have friends that have completely different jobs and interests and ive met them in very different parts of my life', 'i think everyone just thinks because were tennis players we should be the greatest of friends', 'but ultimately tennis is just a very small part of what we do', 'there are so many other things that were interested in that we do', 'basel switzerland ap roger federer advanced to the th swiss indoors final of his career by beating seventhseeded daniil medvedev   on saturday', 'seeking a ninth title at his hometown event and a th overall federer will play thranked marius copil on sunday', 'federer dominated the thranked medvedev and had his first matchpoint chance to break serve again at', 'he then dropped his serve to love and let another match point slip in medvedevs next service game by netting a backhand', 'he clinched on his fourth chance when medvedev netted from the baseline', 'copil upset expectations of a federer final against alexander zverev in a     win over the fifthranked german in the earlier semifinal', 'the romanian aims for a first title after arriving at basel without a career win over a top opponent', 'copil has two after also beating no', 'marin cilic in the second round', 'copil fired  aces past zverev and never dropped serve clinching after   hours with a forehand volley winner to break zverev for the second time in the semifinal', 'he came through two rounds of qualifying last weekend to reach the basel main draw including beating zverevs older brother mischa', 'federer had an easier time than in his only previous match against medvedev a threesetter at shanghai two weeks ago', 'roger federer has revealed that organisers of the relaunched and condensed davis cup gave him three days to decide if he would commit to the controversial competition', 'speaking at the swiss indoors tournament where he will play in sundays final against romanian qualifier marius copil the world number three said that given the impossibly short time frame to make a decision he opted out of any commitment', 'they only left me three days to decide federer said', 'i didnt to have time to consult with all the people i had to consult', 'i could not make a decision in that time so i told them to do what they wanted', 'the time grand slam champion has voiced doubts about the wisdom of the oneweek format to be introduced by organisers kosmos who have promised the international tennis federation up to  billion in prize money over the next quartercentury', 'the competition is set to feature  countries in the november  finals in madrid next year and will replace the classic homeandaway ties played four times per year for decades', 'kosmos is headed by barcelona footballer gerard pique who is hoping fellow spaniard rafael nadal will play in the upcoming event', 'novak djokovic has said he will give precedence to the atps intended relaunch of the defunct world team cup in january  at various australian venues', 'major players feel that a big event in late november combined with one in january before the australian open will mean too much tennis and too little rest', 'federer said earlier this month in shanghai in that his chances of playing the davis cup were all but nonexistent', 'i highly doubt it of course', 'we will see what happens he said', 'i do not think this was designed for me anyhow', 'this was designed for the future generation of players', 'argentina and britain received wild cards to the newlook event and will compete along with the four  semifinalists and the  teams who win qualifying rounds next february', 'i dont like being under that kind of pressure federer said of the deadline kosmos handed him', 'kei nishikori will try to end his long losing streak in atp finals and kevin anderson will go for his second title of the year at the erste bank open on sunday', 'the fifthseeded nishikori reached his third final of  after beating mikhail kukushkin of kazakhstan   in the semifinals', 'a winner of  atp events nishikori hasnt triumphed since winning in memphis in february', 'he has lost eight straight finals since', 'the secondseeded anderson defeated fernando verdasco', 'anderson has a shot at a fifth career title and second of the year after winning in new york in february', 'nishikori leads anderson  on career matchups but the south african won their only previous meeting this year', 'with a victory on sunday anderson will qualify for the atp finals', 'currently in ninth place nishikori with a win could move to within  points of the cut for the eightman event in london next month', 'nishikori held serve throughout against kukushkin who came through qualifying', 'he used his first break point to close out the first set before going up  in the second and wrapping up the win on his first match point', 'against verdasco anderson hit nine of his  aces in the opening set', 'the spaniard broke anderson twice in the second but didnt get another chance on the south africans serve in the final set', 'federer  first broke through on tour over two decades ago and he has since gone on to enjoy a glittering career', 'the time grand slam winner is chasing his th atp title at the swiss indoors this week and he faces janlennard struff in the second round on thursday pm bst', 'davenport enjoyed most of her success in the late s and her third and final major tournament win came at the  australian open', 'but she claims the mentality of professional tennis players slowly began to change after the new millennium', 'it seems pretty friendly right now said davenport', 'i think there is a really nice environment and a great atmosphere especially between some of the veteran players helping some of the younger players out', 'its a very pleasant atmosphere id have to say around the locker rooms', 'i felt like the best weeks that i had to get to know players when i was playing were the fed cup weeks or the olympic weeks not necessarily during the tournaments', 'and even though maybe we had smaller teams i still think we kept to ourselves quite a bit', 'not always but i really feel like in the mid years there was a huge shift of the attitudes of the top players and being more friendly and being more giving and a lot of that had to do with players like roger coming up', 'i just felt like it really kind of changed where people were a little bit definitely in the s a lot more quiet into themselves and then it started to become better', 'meanwhile federer is hoping he can improve his service game as he hunts his ninth swiss indoors title this week', 'i didnt serve very well against firstround opponent filip kranjovic federer said', 'i think i was misfiring the corners i was not hitting the lines enough', 'clearly you make your life more difficult but still i was up   break points so things could have ended very quickly today even though i didnt have the best serve percentage stats', 'but maybe thats exactly what caught up to me eventually', 'its just getting used to it', 'this is where the first rounds can be tricky', 'nadal has not played tennis since he was forced to retire from the us open semifinals against juan martin del porto with a knee injury', 'the world no  has been forced to miss spains davis cup clash with france and the asian hard court season', 'but with the atp world tour finals due to begin next month nadal is ready to prove his fitness before the seasonending event at the  arena', 'nadal flew to paris on friday and footage from the paris masters official twitter account shows the spaniard smiling as he strides onto court for practice', 'the paris masters draw has been made and nadal will start his campaign on tuesday or wednesday against either fernando verdasco or jeremy chardy', 'nadal could then play defending champion jack sock in the third round before a potential quarterfinal with either borna coric or dominic thiem', 'nadals appearance in paris is a big boost to the tournament organisers who could see roger federer withdraw', 'federer is in action at the swiss indoors in basel and if he reaches the final he could pull out of paris in a bid to stay fresh for london', 'but as it stands federer is in the draw and is scheduled to face either former world no  milos raonic or jowilfried tsonga in the second round', 'federers projected route to the paris final could also lead to matches against kevin anderson and novak djokovic', 'djokovic could play marco cecchinato in the second round', 'british no  kyle edmund is the th seed in paris and will get underway in round two against either karen khachanov or filip krajinovic', 'tennis giveth and tennis taketh away', 'the end of the season is finally in sight and with so many players defendingor losinghuge chunks of points in singapore zhuhai and london podcast cohosts nina pantic and irina falconi discuss the art of defending points', 'its no secret that jack sock has struggled on the singles court this year his record is', 'he could lose  points in the next few weeks but instead of focusing on the negative it can all be about perspective', 'lets also not forget his two grand slam doubles triumphs this season', 'two players stefanos tsitsipas and kyle edmund won their first career atp titles last week', 'its a big deal because you never forget your first', 'irina looks back at her wta title win in bogota in  and tells an unforgettable story about her semifinal drama', 'in singapore one of the biggest storylines aside from the matches of course has been the oncourt coaching debate', 'nina and irina give their opinions on what coaching should look like in the future on both tours', 'federer won the swiss indoors last week by beating romanian qualifier marius copil in the final', 'the yearold claimed his th atp title and is hunting the century in the french capital this week', 'federer has been handed a difficult draw where could could come across kevin anderson novak djokovic and rafael nadal in the latter rounds', 'but first the time grand slam winner wants to train on the paris masters court this afternoon before deciding whether to appear for his opening match against either milos raonic or jowilfried tsonga', 'on monday i am free and will look how i feel federer said after winning the swiss indoors', 'on tuesday i will fly to paris and train in the afternoon to be ready for my first match on wednesday night', 'i felt good all week and better every day', 'we also had the impression that at this stage it might be better to play matches than to train', 'and as long as i fear no injury i play', 'federers success in basel last week was the ninth time he has won his hometown tournament', 'and he was delighted to be watched on by all of his family and friends as he purchased  tickets for the final for those dearest to him', 'my children my parents my sister and my team are all there federer added', 'it is always very emotional for me to thank my team', 'and sometimes it tilts with the emotions sometimes i just stumble', 'it means the world to me', 'it makes me incredibly happy to win my home tournament and make people happy here', 'i do not know if its maybe my last title so today i try a lot more to absorb that and enjoy the moments much more consciously', 'maybe i should celebrate as if it were my last title', 'there are very touching moments seeing the ball children the standing ovations all the familiar faces in the audience', 'because it was not always easy in the last weeks'])"
            ]
          },
          "metadata": {
            "tags": []
          },
          "execution_count": 28
        }
      ]
    },
    {
      "cell_type": "code",
      "metadata": {
        "id": "rhFmCDLgb-oy",
        "colab_type": "code",
        "outputId": "c8fdccd7-2d6a-44c7-869b-aa980763cca4",
        "colab": {
          "base_uri": "https://localhost:8080/",
          "height": 36
        }
      },
      "source": [
        "sent_embedding[sentences[0]].shape"
      ],
      "execution_count": 0,
      "outputs": [
        {
          "output_type": "execute_result",
          "data": {
            "text/plain": [
              "(100,)"
            ]
          },
          "metadata": {
            "tags": []
          },
          "execution_count": 33
        }
      ]
    },
    {
      "cell_type": "code",
      "metadata": {
        "id": "W9rsP44uqMvp",
        "colab_type": "code",
        "outputId": "fc1c7c17-8d3c-4ae7-9328-5705fb38e5bd",
        "colab": {
          "base_uri": "https://localhost:8080/",
          "height": 36
        }
      },
      "source": [
        "counter = 0\n",
        "for sentence in sentences:\n",
        "  counter = counter + 1\n",
        "  if sentence=='speaking at the swiss indoors tournament where he will play in sundays final against romanian qualifier marius copil the world number three said that given the impossibly short time frame to make a decision he opted out of any commitment':\n",
        "    print (counter)"
      ],
      "execution_count": 0,
      "outputs": [
        {
          "output_type": "stream",
          "text": [
            "31\n"
          ],
          "name": "stdout"
        }
      ]
    },
    {
      "cell_type": "code",
      "metadata": {
        "id": "FXvkeB-8aXyD",
        "colab_type": "code",
        "outputId": "711b067c-8311-4082-af9b-b0b172a1bde3",
        "colab": {
          "base_uri": "https://localhost:8080/",
          "height": 36
        }
      },
      "source": [
        "len(sentences)"
      ],
      "execution_count": 0,
      "outputs": [
        {
          "output_type": "execute_result",
          "data": {
            "text/plain": [
              "119"
            ]
          },
          "metadata": {
            "tags": []
          },
          "execution_count": 30
        }
      ]
    },
    {
      "cell_type": "code",
      "metadata": {
        "id": "poedXgegXSrC",
        "colab_type": "code",
        "colab": {}
      },
      "source": [
        "similarity_mat = np.zeros(( len(sentences), len(sentences)))"
      ],
      "execution_count": 0,
      "outputs": []
    },
    {
      "cell_type": "code",
      "metadata": {
        "id": "GtjC-SR9bxhB",
        "colab_type": "code",
        "colab": {}
      },
      "source": [
        "def cosine_similarity(sent1, sent2, sent_embedding):\n",
        "  prod = np.linalg.norm(sent_embedding[sent1])  *  np.linalg.norm(sent_embedding[sent2])\n",
        "  numerator = np.dot(  sent_embedding[sent1],  sent_embedding[sent2]  )\n",
        "  return numerator/prod"
      ],
      "execution_count": 0,
      "outputs": []
    },
    {
      "cell_type": "code",
      "metadata": {
        "id": "igi9jZTuadC-",
        "colab_type": "code",
        "colab": {}
      },
      "source": [
        "for i in range(len(sentences)):\n",
        "  for j in range(i, len(sentences), 1):\n",
        "    similarity_mat[i][j] = cosine_similarity( sentences[i], sentences[j], sent_embedding)\n",
        "    similarity_mat[j][i] = similarity_mat[i][j]"
      ],
      "execution_count": 0,
      "outputs": []
    },
    {
      "cell_type": "code",
      "metadata": {
        "id": "8vF1nhySd4Ae",
        "colab_type": "code",
        "outputId": "b61c89d2-6d64-4cec-f56c-4095ad0e3c15",
        "colab": {
          "base_uri": "https://localhost:8080/",
          "height": 147
        }
      },
      "source": [
        "print(similarity_mat)"
      ],
      "execution_count": 0,
      "outputs": [
        {
          "output_type": "stream",
          "text": [
            "[[1.         0.88191321 0.8373999  ... 0.891789   0.85290144 0.88390234]\n",
            " [0.88191321 1.         0.93075035 ... 0.95100288 0.93503689 0.96660122]\n",
            " [0.8373999  0.93075035 1.         ... 0.94383974 0.87909084 0.90166331]\n",
            " ...\n",
            " [0.891789   0.95100288 0.94383974 ... 1.         0.92247169 0.96141665]\n",
            " [0.85290144 0.93503689 0.87909084 ... 0.92247169 1.         0.93247135]\n",
            " [0.88390234 0.96660122 0.90166331 ... 0.96141665 0.93247135 1.        ]]\n"
          ],
          "name": "stdout"
        }
      ]
    },
    {
      "cell_type": "code",
      "metadata": {
        "id": "pvp7vtoQeEwK",
        "colab_type": "code",
        "colab": {}
      },
      "source": [
        "import networkx as nx\n",
        "nx_graph = nx.from_numpy_array(similarity_mat)"
      ],
      "execution_count": 0,
      "outputs": []
    },
    {
      "cell_type": "code",
      "metadata": {
        "id": "MLIUtrfreoTU",
        "colab_type": "code",
        "colab": {}
      },
      "source": [
        "scores = nx.pagerank(nx_graph)"
      ],
      "execution_count": 0,
      "outputs": []
    },
    {
      "cell_type": "code",
      "metadata": {
        "id": "C965964ojQUG",
        "colab_type": "code",
        "outputId": "e2f90c7a-080e-47c0-b95f-da82058b5343",
        "colab": {
          "base_uri": "https://localhost:8080/",
          "height": 1000
        }
      },
      "source": [
        "# scores"
      ],
      "execution_count": 0,
      "outputs": [
        {
          "output_type": "execute_result",
          "data": {
            "text/plain": [
              "{0: 0.008353175379230986,\n",
              " 1: 0.008535759451247594,\n",
              " 2: 0.008088397542873955,\n",
              " 3: 0.008745187837063578,\n",
              " 4: 0.007332076812332743,\n",
              " 5: 0.008335320406412652,\n",
              " 6: 0.008244334441958164,\n",
              " 7: 0.008587994378121638,\n",
              " 8: 0.008547878430330303,\n",
              " 9: 0.008387923895840112,\n",
              " 10: 0.008412872115956926,\n",
              " 11: 0.008486996765850335,\n",
              " 12: 0.008107926462602225,\n",
              " 13: 0.008404779288963101,\n",
              " 14: 0.008453753885170704,\n",
              " 15: 0.008557817811799132,\n",
              " 16: 0.008308541800953752,\n",
              " 17: 0.008142061474747912,\n",
              " 18: 0.008501479594042946,\n",
              " 19: 0.008565574435853707,\n",
              " 20: 0.008543543708416548,\n",
              " 21: 0.00833957386917139,\n",
              " 22: 0.008378485982351443,\n",
              " 23: 0.008501864753095539,\n",
              " 24: 0.008396821469923871,\n",
              " 25: 0.007569537710836507,\n",
              " 26: 0.00832876692993733,\n",
              " 27: 0.008525393778305896,\n",
              " 28: 0.00862601034509713,\n",
              " 29: 0.008670193951953384,\n",
              " 30: 0.008745726937411012,\n",
              " 31: 0.008562448511187546,\n",
              " 32: 0.008362474498535106,\n",
              " 33: 0.00849203567151222,\n",
              " 34: 0.008590224315737615,\n",
              " 35: 0.008556415958219658,\n",
              " 36: 0.008154066573314632,\n",
              " 37: 0.00858055896121472,\n",
              " 38: 0.008723392647581775,\n",
              " 39: 0.008700984026978362,\n",
              " 40: 0.008351850117801379,\n",
              " 41: 0.008174271444765055,\n",
              " 42: 0.008246260538950185,\n",
              " 43: 0.008400940992055636,\n",
              " 44: 0.0085478773317574,\n",
              " 45: 0.008506287095244675,\n",
              " 46: 0.008624887456333599,\n",
              " 47: 0.008065945487929905,\n",
              " 48: 0.00795024300646497,\n",
              " 49: 0.008265144416929208,\n",
              " 50: 0.0063366665643675895,\n",
              " 51: 0.008451837212018885,\n",
              " 52: 0.008549557972576716,\n",
              " 53: 0.008416434924560427,\n",
              " 54: 0.008607150648022251,\n",
              " 55: 0.008141882627073169,\n",
              " 56: 0.00866065770646878,\n",
              " 57: 0.008241583858501846,\n",
              " 58: 0.008623952917485722,\n",
              " 59: 0.00858851058879771,\n",
              " 60: 0.008505374468332518,\n",
              " 61: 0.008589300261259376,\n",
              " 62: 0.008617596564342517,\n",
              " 63: 0.008275010331819996,\n",
              " 64: 0.008574315897428195,\n",
              " 65: 0.00829414520570368,\n",
              " 66: 0.008705237437860317,\n",
              " 67: 0.008400587574307457,\n",
              " 68: 0.008697174599040914,\n",
              " 69: 0.008570926946754646,\n",
              " 70: 0.00865528126660914,\n",
              " 71: 0.007957654885278241,\n",
              " 72: 0.008433273129410317,\n",
              " 73: 0.008519592671969873,\n",
              " 74: 0.008166435258387023,\n",
              " 75: 0.0084263092347715,\n",
              " 76: 0.008515224742609918,\n",
              " 77: 0.00848213740321584,\n",
              " 78: 0.008626550923405073,\n",
              " 79: 0.008613956334408273,\n",
              " 80: 0.008522036726832815,\n",
              " 81: 0.008511386030909542,\n",
              " 82: 0.008427795465968294,\n",
              " 83: 0.008627819977248253,\n",
              " 84: 0.008645933013399078,\n",
              " 85: 0.0086717083424848,\n",
              " 86: 0.008426348565932664,\n",
              " 87: 0.008270484828531488,\n",
              " 88: 0.008548634059335104,\n",
              " 89: 0.005997220570408757,\n",
              " 90: 0.008549945052883732,\n",
              " 91: 0.00858324945214451,\n",
              " 92: 0.008661135335730345,\n",
              " 93: 0.00833147816940794,\n",
              " 94: 0.00815960876553861,\n",
              " 95: 0.008429911452752003,\n",
              " 96: 0.008313240079584415,\n",
              " 97: 0.008506938338516233,\n",
              " 98: 0.008542987574160896,\n",
              " 99: 0.007913154320672777,\n",
              " 100: 0.008475855717132118,\n",
              " 101: 0.008503472008431684,\n",
              " 102: 0.008622496945948797,\n",
              " 103: 0.008606927618571292,\n",
              " 104: 0.008564626140857682,\n",
              " 105: 0.008469543251427744,\n",
              " 106: 0.008674360018680256,\n",
              " 107: 0.00853247293417842,\n",
              " 108: 0.008482512431198144,\n",
              " 109: 0.008597759675681988,\n",
              " 110: 0.008223042888523565,\n",
              " 111: 0.00838402916464046,\n",
              " 112: 0.008251480019131558,\n",
              " 113: 0.008546569000000575,\n",
              " 114: 0.008433644100852011,\n",
              " 115: 0.008505386026449712,\n",
              " 116: 0.008574583231782557,\n",
              " 117: 0.008412596908827561,\n",
              " 118: 0.008671224938087576}"
            ]
          },
          "metadata": {
            "tags": []
          },
          "execution_count": 50
        }
      ]
    },
    {
      "cell_type": "code",
      "metadata": {
        "id": "vPUpqL-ke_wf",
        "colab_type": "code",
        "colab": {}
      },
      "source": [
        "ranked_sentences = sorted(((scores[i],s) for i,s in enumerate(sentences)), reverse=True)"
      ],
      "execution_count": 0,
      "outputs": []
    },
    {
      "cell_type": "code",
      "metadata": {
        "id": "uohAOy0CfFyW",
        "colab_type": "code",
        "outputId": "51be2cf3-701c-4464-b6a1-7c15daac96ff",
        "colab": {
          "base_uri": "https://localhost:8080/",
          "height": 223
        }
      },
      "source": [
        "for i in range(10):\n",
        "  print(ranked_sentences[i][1])"
      ],
      "execution_count": 0,
      "outputs": [
        {
          "output_type": "stream",
          "text": [
            "speaking at the swiss indoors tournament where he will play in sundays final against romanian qualifier marius copil the world number three said that given the impossibly short time frame to make a decision he opted out of any commitment\n",
            "when im on the courts or when im on the court playing im a competitor and i want to beat every single person whether theyre in the locker room or across the netso im not the one to strike up a conversation about the weather and know that in the next few minutes i have to go and try to win a tennis match\n",
            "major players feel that a big event in late november combined with one in january before the australian open will mean too much tennis and too little rest\n",
            "i felt like the best weeks that i had to get to know players when i was playing were the fed cup weeks or the olympic weeks not necessarily during the tournaments\n",
            "federer said earlier this month in shanghai in that his chances of playing the davis cup were all but nonexistent\n",
            "not always but i really feel like in the mid years there was a huge shift of the attitudes of the top players and being more friendly and being more giving and a lot of that had to do with players like roger coming up\n",
            "we also had the impression that at this stage it might be better to play matches than to train\n",
            "but as it stands federer is in the draw and is scheduled to face either former world no  milos raonic or jowilfried tsonga in the second round\n",
            "because it was not always easy in the last weeks\n",
            "roger federer has revealed that organisers of the relaunched and condensed davis cup gave him three days to decide if he would commit to the controversial competition\n"
          ],
          "name": "stdout"
        }
      ]
    },
    {
      "cell_type": "code",
      "metadata": {
        "id": "U0ANqP9DfKf9",
        "colab_type": "code",
        "outputId": "593cabd4-59e7-42b9-ae92-faff76f6c278",
        "colab": {
          "base_uri": "https://localhost:8080/",
          "height": 36
        }
      },
      "source": [
        "type(ranked_sentences)"
      ],
      "execution_count": 0,
      "outputs": [
        {
          "output_type": "execute_result",
          "data": {
            "text/plain": [
              "list"
            ]
          },
          "metadata": {
            "tags": []
          },
          "execution_count": 55
        }
      ]
    },
    {
      "cell_type": "code",
      "metadata": {
        "id": "DDahLrPokY7x",
        "colab_type": "code",
        "colab": {}
      },
      "source": [
        ""
      ],
      "execution_count": 0,
      "outputs": []
    }
  ]
}